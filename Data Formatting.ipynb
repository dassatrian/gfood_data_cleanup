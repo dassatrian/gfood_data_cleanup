{
 "cells": [
  {
   "cell_type": "code",
   "execution_count": 1,
   "metadata": {},
   "outputs": [],
   "source": [
    "# reading in packages\n",
    "import pandas as pd\n",
    "import re\n",
    "import json"
   ]
  },
  {
   "cell_type": "code",
   "execution_count": 2,
   "metadata": {},
   "outputs": [],
   "source": [
    "# reading in databases\n",
    "food_details = pd.read_excel('Datasets/Release 1 - Food details file.xlsx')\n",
    "\n",
    "food_nutrients_excel = pd.ExcelFile('Datasets/Release 1 - Food nutrient database.xlsx')\n",
    "food_nutrients = pd.read_excel(food_nutrients_excel,'All solids & liquids per 100g')\n",
    "\n",
    "food_measures = pd.read_excel('Datasets/Release 1 - Measures file.xlsx')\n",
    "food_recipe = pd.read_excel('Datasets/Release 1 - Recipe file.xlsx')\n",
    "\n",
    "food_emissions = pd.read_excel('Datasets/emissions.xlsx')\n",
    "food_categories = pd.read_excel('Datasets/categories.xlsx')"
   ]
  },
  {
   "cell_type": "markdown",
   "metadata": {},
   "source": [
    "# Exploratory Data Analysis\n",
    "1534 unique ingredients\n",
    "\n",
    "503 uniue recipes\n",
    "\n",
    "268 unique classifications (ie. types?)"
   ]
  },
  {
   "cell_type": "markdown",
   "metadata": {},
   "source": [
    "# Formatting the Food Databases"
   ]
  },
  {
   "cell_type": "code",
   "execution_count": 3,
   "metadata": {},
   "outputs": [],
   "source": [
    "# to store all of the food product classifications, now we can drop Classification Name from the food database\n",
    "food_classification = food_details[['Classification ID', 'Classification Name']].copy()\n",
    "food_classification.drop_duplicates(inplace = True)\n",
    "\n",
    "# dropping unecessary columns from food_details\n",
    "food_details.drop(['Nitrogen Factor', 'Fat Factor', 'Specific Gravity', 'Analysed portion', 'Unanalysed portion', 'Classification Name'], axis = 1, inplace = True)\n",
    "\n",
    "# dropping unecessary columns from food_nutrients\n",
    "food_nutrients.drop(['Food Name', 'Classification'], axis = 1, inplace = True)\n",
    "\n",
    "# need to fix up the merged columns (ie. make the \"Unnamed\" column match the previous column name) and remove the units row (make a part of column name)\n",
    "regex = re.compile(r'Unnamed') # regex to find the \"Unnamed\" columns\n",
    "\n",
    "old_columns = list(food_nutrients.columns) # list of existing columns\n",
    "units = food_nutrients[0:1].values[0] # list of the unit row\n",
    "new_columns = [] # empty list to store the new column values\n",
    "\n",
    "for each in range(len(old_columns)):\n",
    "    if re.search(regex, food_nutrients.columns[each]): # ie. find the column that is \"unnamed\"\n",
    "        try:\n",
    "            new_columns.append(old_columns[each-1] + ' (in ' + units[each] + ')') # take the previous column name and add units\n",
    "        except:\n",
    "            new_columns.append(old_columns[each-1]) # if you can't add the units, just keep the column\n",
    "    else: # ie. column is not \"unnamed\"\n",
    "        try:\n",
    "            new_columns.append(old_columns[each] + ' (in ' + units[each] + ')')\n",
    "        except:\n",
    "            new_columns.append(old_columns[each])\n",
    "    \n",
    "food_nutrients.rename(columns = dict(zip(old_columns, new_columns)), inplace = True) # rename the columns\n",
    "food_nutrients.drop(0, axis = 0, inplace = True) # drop the unit row\n",
    "food_nutrients.reset_index(drop = True, inplace = True) # reset the index\n",
    "\n",
    "# Food name useless (can just get from food_details) and Quantity is 1 everywhere, so drop\n",
    "food_measures.drop(['Food Name', 'Quantity'], axis = 1, inplace = True)\n",
    "\n",
    "# Ingredient name useless (we can just get from food_details)\n",
    "food_recipe.drop(['Ingredient Name'], axis = 1, inplace = True)\n",
    "food_recipe.rename(columns = {\"Public Food Key\":\"Recipe Public Food Key\", \"IngredientPublic Food Key\":\"Public Food Key\"}, inplace = True) # rename the columns\n",
    "\n",
    "# join food_details and food_nutrients\n",
    "food_details = food_details.merge(food_nutrients, on = 'Public Food Key')\n"
   ]
  },
  {
   "cell_type": "markdown",
   "metadata": {},
   "source": [
    "# Exporting the tables out to CSV"
   ]
  },
  {
   "cell_type": "code",
   "execution_count": 4,
   "metadata": {},
   "outputs": [],
   "source": [
    "#food_categories.to_csv(r'Datasets/tables/food_categories.csv', index = False)\n",
    "#food_emissions.to_csv('Datasets/tables/food_emissions.csv', index = False)\n",
    "#food_measures.to_csv('Datasets/tables/food_measures.csv', index = False)\n",
    "#food_recipe.to_csv('Datasets/tables/food_recipe.csv', index = False)\n",
    "#food_classification.to_csv('Datasets/tables/food_classification.csv', index = False)\n",
    "#food_details.to_csv('Datasets/tables/food_details.csv', index = False)"
   ]
  },
  {
   "cell_type": "markdown",
   "metadata": {},
   "source": [
    "# Setting Product ID and Category ID in food details\n",
    "For context, I have manually inserted Product ID and Category ID into the \"food_classification\" data-set, however Product ID and Category ID should be allocated at an individual ingredient level (not at a classification level). The classification level was just done to take care of the initial bulk of allocation, but I need to move Product ID and Category ID into the \"food_details\" dataset."
   ]
  },
  {
   "cell_type": "code",
   "execution_count": 5,
   "metadata": {},
   "outputs": [],
   "source": [
    "# reading in the manual classifications I have created\n",
    "initial_classification = pd.read_csv(\"Datasets/food_classification INITIAL.csv\")"
   ]
  },
  {
   "cell_type": "code",
   "execution_count": 6,
   "metadata": {},
   "outputs": [],
   "source": [
    "# need to join food details and classification (on classification ID)\n",
    "initial_classification['Product ID'] = initial_classification['Product ID'].astype(object) # need to convert to object so there are no floats\n",
    "food_details = food_details.merge(initial_classification, on = 'Classification ID')\n",
    "\n",
    "# need to drop unecessary Classification Name column\n",
    "food_details.drop(['Classification Name'], axis = 1, inplace = True)\n",
    "\n",
    "food_details.to_csv('Datasets/tables/food_details.csv', index = False)\n",
    "food_classification.to_csv('Datasets/tables/food_classification.csv', index = False)"
   ]
  },
  {
   "cell_type": "code",
   "execution_count": 7,
   "metadata": {},
   "outputs": [],
   "source": [
    "#food_categories\n",
    "#food_classification\n",
    "#food_details\n",
    "#food_emissions\n",
    "#food_measures\n",
    "#food_recipe"
   ]
  },
  {
   "cell_type": "markdown",
   "metadata": {},
   "source": [
    "# Customer"
   ]
  },
  {
   "cell_type": "code",
   "execution_count": 8,
   "metadata": {},
   "outputs": [
    {
     "data": {
      "text/plain": [
       "'{\"First Name\": \"David\", \"Last Name\": \"Assatrian\", \"Full Name\": \"David Assatrian\", \"Phone\": \"0410000050\", \"Email\": \"dassatrian@gmail.com\", \"Meals\": []}'"
      ]
     },
     "execution_count": 8,
     "metadata": {},
     "output_type": "execute_result"
    }
   ],
   "source": [
    "# create user JSON\n",
    "customer = {}\n",
    "\n",
    "# setting user variables\n",
    "fname = 'David'\n",
    "lname = 'Assatrian'\n",
    "full_name = fname + ' ' + lname\n",
    "phone = '0410000050'\n",
    "email = 'dassatrian@gmail.com'\n",
    "\n",
    "# To add element --> customer['First Name'] = 'David'\n",
    "# To remove element --> customer.pop('First Name')\n",
    "customer['First Name'] = fname\n",
    "customer['Last Name'] = lname\n",
    "customer['Full Name'] = full_name\n",
    "customer['Phone'] = phone\n",
    "customer['Email'] = email\n",
    "customer['Meals'] = []\n",
    "\n",
    "json.dumps(customer)"
   ]
  },
  {
   "cell_type": "code",
   "execution_count": null,
   "metadata": {},
   "outputs": [],
   "source": []
  }
 ],
 "metadata": {
  "kernelspec": {
   "display_name": "Python 3",
   "language": "python",
   "name": "python3"
  },
  "language_info": {
   "codemirror_mode": {
    "name": "ipython",
    "version": 3
   },
   "file_extension": ".py",
   "mimetype": "text/x-python",
   "name": "python",
   "nbconvert_exporter": "python",
   "pygments_lexer": "ipython3",
   "version": "3.7.6"
  }
 },
 "nbformat": 4,
 "nbformat_minor": 4
}
